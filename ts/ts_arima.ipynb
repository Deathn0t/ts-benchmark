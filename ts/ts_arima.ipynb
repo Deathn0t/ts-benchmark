{
 "cells": [
  {
   "cell_type": "markdown",
   "metadata": {},
   "source": [
    "# Notebook written to handle with the data, and get the first results. \n",
    "This notebook mainly focuses on Holt-Winter methods. We can notice, for the following, that neither 'mul' nor 'multiplicative' work for the Holt-Winter method. However, this multiplicative ways to do are more suited to our problem, given that we have high variations in our data. "
   ]
  },
  {
   "cell_type": "code",
   "execution_count": 1,
   "metadata": {},
   "outputs": [],
   "source": [
    "import os, sys\n",
    "import time\n",
    "\n",
    "import matplotlib.pyplot as plt\n",
    "import pandas as pd\n",
    "\n",
    "import numpy as np\n",
    "from math import sqrt\n",
    "from sklearn.metrics import mean_squared_error\n",
    "from statsmodels.tsa.api import ExponentialSmoothing, SimpleExpSmoothing, Holt\n",
    "import statsmodels.api as sm"
   ]
  },
  {
   "cell_type": "code",
   "execution_count": 2,
   "metadata": {},
   "outputs": [],
   "source": [
    "train_filename = \"Train_SU63ISt.csv\"\n",
    "path_to_file = f\"DATA/{train_filename}\"\n",
    "data = pd.read_csv(path_to_file, usecols=[1, 2], engine=\"python\")"
   ]
  },
  {
   "cell_type": "code",
   "execution_count": 3,
   "metadata": {},
   "outputs": [],
   "source": [
    "data['Date'] = pd.to_datetime(data['Datetime'])\n",
    "data.index = data.Date\n",
    "data = data.drop(['Datetime','Date'], axis=1)"
   ]
  },
  {
   "cell_type": "code",
   "execution_count": 4,
   "metadata": {},
   "outputs": [],
   "source": [
    "# Impose frequency of data to ease the next treatments\n",
    "data = data.asfreq('H')\n",
    "# Sort the data by dates \n",
    "data = data.sort_index()"
   ]
  },
  {
   "cell_type": "code",
   "execution_count": 5,
   "metadata": {},
   "outputs": [
    {
     "data": {
      "text/html": [
       "<div>\n",
       "<style scoped>\n",
       "    .dataframe tbody tr th:only-of-type {\n",
       "        vertical-align: middle;\n",
       "    }\n",
       "\n",
       "    .dataframe tbody tr th {\n",
       "        vertical-align: top;\n",
       "    }\n",
       "\n",
       "    .dataframe thead th {\n",
       "        text-align: right;\n",
       "    }\n",
       "</style>\n",
       "<table border=\"1\" class=\"dataframe\">\n",
       "  <thead>\n",
       "    <tr style=\"text-align: right;\">\n",
       "      <th></th>\n",
       "      <th>Count</th>\n",
       "    </tr>\n",
       "    <tr>\n",
       "      <th>Date</th>\n",
       "      <th></th>\n",
       "    </tr>\n",
       "  </thead>\n",
       "  <tbody>\n",
       "    <tr>\n",
       "      <th>2012-08-25 00:00:00</th>\n",
       "      <td>8.0</td>\n",
       "    </tr>\n",
       "    <tr>\n",
       "      <th>2012-08-25 01:00:00</th>\n",
       "      <td>2.0</td>\n",
       "    </tr>\n",
       "    <tr>\n",
       "      <th>2012-08-25 02:00:00</th>\n",
       "      <td>6.0</td>\n",
       "    </tr>\n",
       "    <tr>\n",
       "      <th>2012-08-25 03:00:00</th>\n",
       "      <td>2.0</td>\n",
       "    </tr>\n",
       "    <tr>\n",
       "      <th>2012-08-25 04:00:00</th>\n",
       "      <td>2.0</td>\n",
       "    </tr>\n",
       "    <tr>\n",
       "      <th>2012-08-25 05:00:00</th>\n",
       "      <td>2.0</td>\n",
       "    </tr>\n",
       "    <tr>\n",
       "      <th>2012-08-25 06:00:00</th>\n",
       "      <td>2.0</td>\n",
       "    </tr>\n",
       "    <tr>\n",
       "      <th>2012-08-25 07:00:00</th>\n",
       "      <td>2.0</td>\n",
       "    </tr>\n",
       "    <tr>\n",
       "      <th>2012-08-25 08:00:00</th>\n",
       "      <td>6.0</td>\n",
       "    </tr>\n",
       "    <tr>\n",
       "      <th>2012-08-25 09:00:00</th>\n",
       "      <td>2.0</td>\n",
       "    </tr>\n",
       "  </tbody>\n",
       "</table>\n",
       "</div>"
      ],
      "text/plain": [
       "                     Count\n",
       "Date                      \n",
       "2012-08-25 00:00:00    8.0\n",
       "2012-08-25 01:00:00    2.0\n",
       "2012-08-25 02:00:00    6.0\n",
       "2012-08-25 03:00:00    2.0\n",
       "2012-08-25 04:00:00    2.0\n",
       "2012-08-25 05:00:00    2.0\n",
       "2012-08-25 06:00:00    2.0\n",
       "2012-08-25 07:00:00    2.0\n",
       "2012-08-25 08:00:00    6.0\n",
       "2012-08-25 09:00:00    2.0"
      ]
     },
     "execution_count": 5,
     "metadata": {},
     "output_type": "execute_result"
    }
   ],
   "source": [
    "data.head(10)"
   ]
  },
  {
   "cell_type": "markdown",
   "metadata": {},
   "source": [
    "# Handle 'Nan' values which would polute the predictions made by our models"
   ]
  },
  {
   "cell_type": "code",
   "execution_count": 6,
   "metadata": {},
   "outputs": [
    {
     "name": "stdout",
     "output_type": "stream",
     "text": [
      "In train data, there are 1416 NaN cells, among 1416 lines\n",
      "1416\n",
      "In train data, there are 0 NaN cells, among 0 lines\n"
     ]
    }
   ],
   "source": [
    "### Missing values (NaN) in train data \n",
    "# Counting cells with missing values \n",
    "train_missing_cells = sum(data.isnull().values.ravel())\n",
    "#Counting rows that have missing values somewhere \n",
    "train_missing_lines = sum(data.apply(lambda x: sum(x.isnull().values), axis = 1)>0)\n",
    "print('In train data, there are %s NaN cells, among %s lines' %(train_missing_cells, train_missing_lines))\n",
    "\n",
    "count = 0\n",
    "for i in range(data.shape[0]):\n",
    "    if (np.isnan(data.Count.iloc[i])):\n",
    "        count += 1\n",
    "        data.Count.iloc[i] = data.Count.iloc[i-1]\n",
    "print(count)\n",
    "\n",
    "# Counting cells with missing values \n",
    "train_missing_cells = sum(data.isnull().values.ravel())\n",
    "#Counting rows that have missing values somewhere \n",
    "train_missing_lines = sum(data.apply(lambda x: sum(x.isnull().values), axis = 1)>0)\n",
    "print('In train data, there are %s NaN cells, among %s lines' %(train_missing_cells, train_missing_lines))"
   ]
  },
  {
   "cell_type": "markdown",
   "metadata": {},
   "source": [
    "# Split training and testing data "
   ]
  },
  {
   "cell_type": "code",
   "execution_count": 7,
   "metadata": {},
   "outputs": [
    {
     "name": "stdout",
     "output_type": "stream",
     "text": [
      "Train starts at 2012-08-25 00:00:00 and ends at 2013-06-25 18:00:00\n",
      "Test starts at 2013-06-25 19:00:00 and ends at 2013-09-09 23:00:00\n"
     ]
    }
   ],
   "source": [
    "train = data[:int(data.shape[0]*0.4)]\n",
    "test = data[int(data.shape[0]*0.4):int(data.shape[0]*0.5)]\n",
    "\n",
    "print('Train starts at %s and ends at %s' %(train.index.min(),train.index.max()))\n",
    "print('Test starts at %s and ends at %s' %(test.index.min(),test.index.max()))"
   ]
  },
  {
   "cell_type": "code",
   "execution_count": 8,
   "metadata": {},
   "outputs": [
    {
     "data": {
      "text/plain": [
       "<Hour>"
      ]
     },
     "execution_count": 8,
     "metadata": {},
     "output_type": "execute_result"
    }
   ],
   "source": [
    "train.index.freq"
   ]
  },
  {
   "cell_type": "code",
   "execution_count": 9,
   "metadata": {},
   "outputs": [
    {
     "data": {
      "text/html": [
       "<div>\n",
       "<style scoped>\n",
       "    .dataframe tbody tr th:only-of-type {\n",
       "        vertical-align: middle;\n",
       "    }\n",
       "\n",
       "    .dataframe tbody tr th {\n",
       "        vertical-align: top;\n",
       "    }\n",
       "\n",
       "    .dataframe thead th {\n",
       "        text-align: right;\n",
       "    }\n",
       "</style>\n",
       "<table border=\"1\" class=\"dataframe\">\n",
       "  <thead>\n",
       "    <tr style=\"text-align: right;\">\n",
       "      <th></th>\n",
       "      <th>Count</th>\n",
       "    </tr>\n",
       "    <tr>\n",
       "      <th>Date</th>\n",
       "      <th></th>\n",
       "    </tr>\n",
       "  </thead>\n",
       "  <tbody>\n",
       "    <tr>\n",
       "      <th>2012-08-25 00:00:00</th>\n",
       "      <td>8.0</td>\n",
       "    </tr>\n",
       "    <tr>\n",
       "      <th>2012-08-25 01:00:00</th>\n",
       "      <td>2.0</td>\n",
       "    </tr>\n",
       "    <tr>\n",
       "      <th>2012-08-25 02:00:00</th>\n",
       "      <td>6.0</td>\n",
       "    </tr>\n",
       "    <tr>\n",
       "      <th>2012-08-25 03:00:00</th>\n",
       "      <td>2.0</td>\n",
       "    </tr>\n",
       "    <tr>\n",
       "      <th>2012-08-25 04:00:00</th>\n",
       "      <td>2.0</td>\n",
       "    </tr>\n",
       "  </tbody>\n",
       "</table>\n",
       "</div>"
      ],
      "text/plain": [
       "                     Count\n",
       "Date                      \n",
       "2012-08-25 00:00:00    8.0\n",
       "2012-08-25 01:00:00    2.0\n",
       "2012-08-25 02:00:00    6.0\n",
       "2012-08-25 03:00:00    2.0\n",
       "2012-08-25 04:00:00    2.0"
      ]
     },
     "execution_count": 9,
     "metadata": {},
     "output_type": "execute_result"
    }
   ],
   "source": [
    "train.head()"
   ]
  },
  {
   "cell_type": "code",
   "execution_count": 10,
   "metadata": {},
   "outputs": [
    {
     "data": {
      "text/html": [
       "<div>\n",
       "<style scoped>\n",
       "    .dataframe tbody tr th:only-of-type {\n",
       "        vertical-align: middle;\n",
       "    }\n",
       "\n",
       "    .dataframe tbody tr th {\n",
       "        vertical-align: top;\n",
       "    }\n",
       "\n",
       "    .dataframe thead th {\n",
       "        text-align: right;\n",
       "    }\n",
       "</style>\n",
       "<table border=\"1\" class=\"dataframe\">\n",
       "  <thead>\n",
       "    <tr style=\"text-align: right;\">\n",
       "      <th></th>\n",
       "      <th>Count</th>\n",
       "    </tr>\n",
       "    <tr>\n",
       "      <th>Date</th>\n",
       "      <th></th>\n",
       "    </tr>\n",
       "  </thead>\n",
       "  <tbody>\n",
       "    <tr>\n",
       "      <th>2013-06-25 14:00:00</th>\n",
       "      <td>98.0</td>\n",
       "    </tr>\n",
       "    <tr>\n",
       "      <th>2013-06-25 15:00:00</th>\n",
       "      <td>98.0</td>\n",
       "    </tr>\n",
       "    <tr>\n",
       "      <th>2013-06-25 16:00:00</th>\n",
       "      <td>128.0</td>\n",
       "    </tr>\n",
       "    <tr>\n",
       "      <th>2013-06-25 17:00:00</th>\n",
       "      <td>112.0</td>\n",
       "    </tr>\n",
       "    <tr>\n",
       "      <th>2013-06-25 18:00:00</th>\n",
       "      <td>124.0</td>\n",
       "    </tr>\n",
       "  </tbody>\n",
       "</table>\n",
       "</div>"
      ],
      "text/plain": [
       "                     Count\n",
       "Date                      \n",
       "2013-06-25 14:00:00   98.0\n",
       "2013-06-25 15:00:00   98.0\n",
       "2013-06-25 16:00:00  128.0\n",
       "2013-06-25 17:00:00  112.0\n",
       "2013-06-25 18:00:00  124.0"
      ]
     },
     "execution_count": 10,
     "metadata": {},
     "output_type": "execute_result"
    }
   ],
   "source": [
    "train.tail()"
   ]
  },
  {
   "cell_type": "code",
   "execution_count": 11,
   "metadata": {},
   "outputs": [
    {
     "data": {
      "image/png": "[encoded data removed]",
      "text/plain": [
       "<Figure size 1080x360 with 1 Axes>"
      ]
     },
     "metadata": {
      "needs_background": "light"
     },
     "output_type": "display_data"
    }
   ],
   "source": [
    "### Observe the data and get an idea of what we are dealing with\n",
    "fig,ax = plt.subplots(figsize=(15,5))\n",
    "ax.plot(train.index, train.Count)\n",
    "ax.plot(test.index, test.Count)\n",
    "title= 'Attendance time series %s'\n",
    "ax.set_title(title,fontsize=18)\n",
    "#fig.savefig('sales_time_series.png', bbox_inches='tight')\n",
    "plt.show()"
   ]
  },
  {
   "cell_type": "raw",
   "metadata": {},
   "source": [
    "Do not hesitate to change the ratio when splitting training and testing data in order to observe the changings in trends, and seasonality (which does not seem to change that much). "
   ]
  },
  {
   "cell_type": "markdown",
   "metadata": {},
   "source": [
    "# HOLT-WINTER MODEL : a first step towards prediction "
   ]
  },
  {
   "cell_type": "code",
   "execution_count": 12,
   "metadata": {},
   "outputs": [
    {
     "data": {
      "text/plain": [
       "10.25"
      ]
     },
     "execution_count": 12,
     "metadata": {},
     "output_type": "execute_result"
    }
   ],
   "source": [
    "v = pd.DataFrame(data=np.array([4,2,3,np.NaN,8]))\n",
    "mean_squared_error(v.values[v.notna().values], np.array([2,2,2,2]))"
   ]
  },
  {
   "cell_type": "code",
   "execution_count": 13,
   "metadata": {},
   "outputs": [
    {
     "data": {
      "text/plain": [
       "(7315, 1)"
      ]
     },
     "execution_count": 13,
     "metadata": {},
     "output_type": "execute_result"
    }
   ],
   "source": [
    "train.shape"
   ]
  },
  {
   "cell_type": "code",
   "execution_count": 14,
   "metadata": {},
   "outputs": [
    {
     "data": {
      "text/plain": [
       "DatetimeIndex(['2012-08-25 00:00:00', '2012-08-25 01:00:00',\n",
       "               '2012-08-25 02:00:00', '2012-08-25 03:00:00',\n",
       "               '2012-08-25 04:00:00', '2012-08-25 05:00:00',\n",
       "               '2012-08-25 06:00:00', '2012-08-25 07:00:00',\n",
       "               '2012-08-25 08:00:00', '2012-08-25 09:00:00',\n",
       "               ...\n",
       "               '2013-06-25 09:00:00', '2013-06-25 10:00:00',\n",
       "               '2013-06-25 11:00:00', '2013-06-25 12:00:00',\n",
       "               '2013-06-25 13:00:00', '2013-06-25 14:00:00',\n",
       "               '2013-06-25 15:00:00', '2013-06-25 16:00:00',\n",
       "               '2013-06-25 17:00:00', '2013-06-25 18:00:00'],\n",
       "              dtype='datetime64[ns]', length=7315, freq='60T')"
      ]
     },
     "execution_count": 14,
     "metadata": {},
     "output_type": "execute_result"
    }
   ],
   "source": [
    "# Quickly check that there is no missing date : check that our dataset has a coherent number of lines\n",
    "pd.date_range(start=str(train.index.min()), end=str(train.index.max()), freq='60min')"
   ]
  },
  {
   "cell_type": "raw",
   "metadata": {},
   "source": [
    "It seems that it does not lack datetime in the dataset. "
   ]
  },
  {
   "cell_type": "code",
   "execution_count": 15,
   "metadata": {},
   "outputs": [],
   "source": [
    "### Test the seasonality which seems to be the most appropriated : this run is very long \n",
    "\n",
    "y_hat_avg = test.copy()\n",
    "rmse_scores = []\n",
    "P = 30\n",
    "periods = np.arange(2,P)\n",
    "\n",
    "testing = False\n",
    "\n",
    "if testing:\n",
    "    for p in periods:\n",
    "        fitted = ExponentialSmoothing(train['Count'].values, seasonal_periods=p ,trend='add', seasonal='add').fit()\n",
    "        forcasted = fitted.forecast(len(test))\n",
    "        forcasted = forcasted.reshape(forcasted.shape[0],1)\n",
    "        filterNa = pd.DataFrame(data=forcasted).notna().values\n",
    "        if (len(test.Count.values[filterNa[:,0]]) > 2):\n",
    "            rms = sqrt(mean_squared_error(test.Count.values[filterNa[:,0]], forcasted[filterNa[:,0]]))\n",
    "        else:\n",
    "            rms = 1e5\n",
    "        rmse_scores.append(rms)\n",
    "\n",
    "        if (p < (P-1)):\n",
    "            sys.stdout.write('Seasonal period : %s ; RMS : %s\\r' %(p,rms))\n",
    "            sys.stdout.flush()   \n",
    "        else:\n",
    "            print('Seasonal period : %s ; RMS : %s\\r' %(p,rms))\n",
    "\n",
    "    print('Min for seasonal period : %s' %(np.argmin(rmse_scores)+2))"
   ]
  },
  {
   "cell_type": "code",
   "execution_count": 16,
   "metadata": {},
   "outputs": [],
   "source": [
    "if testing:\n",
    "    #Plotting data\n",
    "    fig,ax = plt.subplots(figsize=(15,5))\n",
    "    ax.plot(periods, rmse_scores)\n",
    "\n",
    "    title= \"RMSE score for Holt-Winter (trend='add' & seasonal='add')\"\n",
    "    ax.set_title(title,fontsize=18)\n",
    "    fig.savefig('rmse_holt_winter.png', bbox_inches='tight')\n",
    "    plt.show()"
   ]
  },
  {
   "cell_type": "markdown",
   "metadata": {},
   "source": [
    "The minimum is reach for seasonal = 24 : there are 24 measurements per day, this is coherent. "
   ]
  },
  {
   "cell_type": "code",
   "execution_count": 17,
   "metadata": {},
   "outputs": [
    {
     "name": "stdout",
     "output_type": "stream",
     "text": [
      "RMSE can be calculated\n"
     ]
    }
   ],
   "source": [
    "# Build and predict with a model which has a seasonality 24\n",
    "fitted = ExponentialSmoothing(train['Count'].values, seasonal_periods=24 ,trend='add', seasonal='add').fit()\n",
    "forcasted = fitted.forecast(len(test))\n",
    "forcasted = forcasted.reshape(forcasted.shape[0],1)\n",
    "filterNa = pd.DataFrame(data=forcasted).notna().values\n",
    "if (len(test.Count.values[filterNa[:,0]]) > 2):\n",
    "    print(\"RMSE can be calculated\")\n",
    "    rms_holt = sqrt(mean_squared_error(test.Count.values[filterNa[:,0]], forcasted[filterNa[:,0]]))\n",
    "else:\n",
    "    print(\"RMSE can't be calculated\")"
   ]
  },
  {
   "cell_type": "code",
   "execution_count": 18,
   "metadata": {},
   "outputs": [
    {
     "name": "stdout",
     "output_type": "stream",
     "text": [
      "70.87456174122413\n"
     ]
    }
   ],
   "source": [
    "print(rms_holt)"
   ]
  },
  {
   "cell_type": "code",
   "execution_count": 19,
   "metadata": {},
   "outputs": [
    {
     "data": {
      "image/png": "[encoded data removed]",
      "text/plain": [
       "<Figure size 1080x360 with 1 Axes>"
      ]
     },
     "metadata": {
      "needs_background": "light"
     },
     "output_type": "display_data"
    }
   ],
   "source": [
    "# Plotting \n",
    "fig,ax = plt.subplots(figsize=(15,5))\n",
    "ax.plot(train['Count'], label='Train', c='b', alpha=0.5)\n",
    "ax.plot(test['Count'], label='Test', c='orange', alpha=0.5)\n",
    "ax.plot(test.index.values,forcasted, label='Holt_Winter', c='green', alpha=0.5)\n",
    "plt.legend(loc='best')\n",
    "title = \"Holt-Winters predictions : rmse = %s\" %(rms_holt)\n",
    "ax.set_title(title, fontsize=18)\n",
    "plt.show()\n",
    "fig.savefig('holt_winter.png', bbox_inches='tight')"
   ]
  },
  {
   "cell_type": "code",
   "execution_count": 20,
   "metadata": {},
   "outputs": [
    {
     "data": {
      "image/png": "[encoded data removed]",
      "text/plain": [
       "<Figure size 1080x360 with 1 Axes>"
      ]
     },
     "metadata": {
      "needs_background": "light"
     },
     "output_type": "display_data"
    }
   ],
   "source": [
    "# Plotting test only \n",
    "fig,ax = plt.subplots(figsize=(15,5))\n",
    "ax.plot(test['Count'], label='Test', c='orange', alpha=0.5)\n",
    "ax.plot(test.index.values,forcasted, label='Holt_Winter', c='green', alpha=0.5)\n",
    "plt.legend(loc='best')\n",
    "title = \"Holt-Winters predictions : rmse = %s\" %(rms_holt)\n",
    "ax.set_title(title, fontsize=18)\n",
    "plt.show()\n",
    "fig.savefig('holt_winter_test.png', bbox_inches='tight')"
   ]
  },
  {
   "cell_type": "markdown",
   "metadata": {},
   "source": [
    "# ARMA-ARIMA : not handled yet"
   ]
  },
  {
   "cell_type": "markdown",
   "metadata": {},
   "source": [
    "In this section, we will test different parameter values for the ARMA-ARIMA model implemented in Python. For the seasonality, we take 24, as previously. The idea here is to set up the different integration orders. "
   ]
  },
  {
   "cell_type": "code",
   "execution_count": 12,
   "metadata": {},
   "outputs": [],
   "source": [
    "# grid search sarima hyperparameters\n",
    "from math import sqrt\n",
    "from multiprocessing import cpu_count\n",
    "from sklearn.externals.joblib import Parallel\n",
    "from sklearn.externals.joblib import delayed\n",
    "from warnings import catch_warnings\n",
    "from warnings import filterwarnings\n",
    "from statsmodels.tsa.statespace.sarimax import SARIMAX\n",
    "from sklearn.metrics import mean_squared_error"
   ]
  },
  {
   "cell_type": "markdown",
   "metadata": {},
   "source": [
    "## Grid searching for our model hyperparameters \n",
    "Source : https://machinelearningmastery.com/how-to-grid-search-sarima-model-hyperparameters-for-time-series-forecasting-in-python/"
   ]
  },
  {
   "cell_type": "code",
   "execution_count": 13,
   "metadata": {},
   "outputs": [],
   "source": [
    "# Perform a prediction with the SARIMAX model\n",
    "# Parameters : \n",
    "#     - traindata : the training dataset \n",
    "#     - config : the configuration, specifying three parameters for SARIMAX prediction \n",
    "#                (order, sorder, trend)\n",
    "#     - prediction_start_date : the date from which start to predict \n",
    "#     - prediction_end_date : the date until which to predict \n",
    "# Return : \n",
    "#   - the desired SARIMAX model, able to predict a time series based on the training data\n",
    "\n",
    "def sarima_forecast(traindata, config, prediction_start_date, prediction_end_date):\n",
    "    # Get the configuration with which to learn \n",
    "    order, sorder, trend = config\n",
    "    # Define the model \n",
    "    model = SARIMAX(traindata, order=order, seasonal_order=sorder, trend=trend, enforce_stationarity=False, enforce_invertibility=False)\n",
    "    # Train the model \n",
    "    model_fit = model.fit(disp=False)\n",
    "    # Make the prediction \n",
    "    yhat = model_fit.predict(start=prediction_start_date, end=prediction_end_date, dynamic=True)\n",
    "    return yhat"
   ]
  },
  {
   "cell_type": "code",
   "execution_count": 58,
   "metadata": {},
   "outputs": [],
   "source": [
    "# Return the Root Mean Squarred Error between to series \n",
    "# Parameters : \n",
    "#     - actual : the observations \n",
    "#     - predicted : the predictions \n",
    "# Return : \n",
    "#     - the root mean squarred error between actual and predicted \n",
    "\n",
    "def measure_rmse(actual, predicted):\n",
    "    return sqrt(mean_squared_error(actual, predicted))"
   ]
  },
  {
   "cell_type": "code",
   "execution_count": 59,
   "metadata": {},
   "outputs": [],
   "source": [
    "# Split a univariate dataset into train and test sets\n",
    "def train_test_split(data, n_test):\n",
    "    return data[:-n_test], data[-n_test:]"
   ]
  },
  {
   "cell_type": "code",
   "execution_count": 60,
   "metadata": {},
   "outputs": [],
   "source": [
    "# Make a prediction on a dataset with a SARIMAX model parametered with the configuration cfg\n",
    "# Parameters : \n",
    "#     - data : the whole data set\n",
    "#     - n_test : the number of samples to keep for testing \n",
    "#     - cfg : the configuration to set up the model used for prediction\n",
    "# Return : \n",
    "#     - the error made by the prediction performed \n",
    "\n",
    "def walk_forward_validation(data, n_test, cfg):\n",
    "    # split dataset\n",
    "    train, test = train_test_split(data, n_test)\n",
    "    predictions = sarima_forecast(train, cfg, test.index.min(), test.index.max())\n",
    "    error = measure_rmse(test, predictions)\n",
    "    return error"
   ]
  },
  {
   "cell_type": "code",
   "execution_count": 89,
   "metadata": {},
   "outputs": [],
   "source": [
    "# A wrapper for the previous function : it catches the errors, and eventually keeps computing \n",
    "# or stops in order to debug \n",
    "\n",
    "def score_model(data, n_test, cfg, debug=False):\n",
    "    result = None\n",
    "    # convert config to a key\n",
    "    key = str(cfg)\n",
    "    # show all warnings and fail on exception if debugging\n",
    "    if debug:\n",
    "        result = walk_forward_validation(data, n_test, cfg)\n",
    "    else:\n",
    "        # one failure during model validation suggests an unstable config\n",
    "        try:\n",
    "            # never show warnings when grid searching, too noisy\n",
    "            with catch_warnings():\n",
    "                filterwarnings(\"ignore\")\n",
    "                result = walk_forward_validation(data, n_test, cfg)\n",
    "        except:\n",
    "            error = None\n",
    "    # check for an interesting result\n",
    "    if result is not None:\n",
    "        sys.stdout.write('\\r> Model[%s] %.3f' % (key, result))\n",
    "        sys.stdout.flush()\n",
    "    return (key, result)"
   ]
  },
  {
   "cell_type": "code",
   "execution_count": 90,
   "metadata": {},
   "outputs": [],
   "source": [
    "# grid search configs\n",
    "def grid_search(data, cfg_list, n_test, parallel=True):\n",
    "    scores = None\n",
    "    if parallel:\n",
    "        # execute configs in parallel\n",
    "        executor = Parallel(n_jobs=cpu_count(), backend='multiprocessing')\n",
    "        tasks = (delayed(score_model)(data, n_test, cfg) for cfg in cfg_list)\n",
    "        scores = executor(tasks)\n",
    "    else:\n",
    "        scores = [score_model(data, n_test, cfg) for cfg in cfg_list]\n",
    "    # remove empty results\n",
    "    scores = [r for r in scores if r[1] != None]\n",
    "    # sort configs by error, asc\n",
    "    scores.sort(key=lambda tup: tup[1])\n",
    "    return scores"
   ]
  },
  {
   "cell_type": "code",
   "execution_count": 91,
   "metadata": {},
   "outputs": [],
   "source": [
    "# create a set of sarima configs to try\n",
    "def sarima_configs(seasonal=[0]):\n",
    "    models = list()\n",
    "    # define config lists\n",
    "    p_params = [0, 1, 2]\n",
    "    d_params = [0, 1]\n",
    "    q_params = [0, 1, 2]\n",
    "    t_params = ['n','c','t','ct']\n",
    "    P_params = [0, 1, 2]\n",
    "    D_params = [0, 1]\n",
    "    Q_params = [0, 1, 2]\n",
    "    m_params = seasonal\n",
    "    # create config instances\n",
    "    for p in p_params:\n",
    "        for d in d_params:\n",
    "            for q in q_params:\n",
    "                for t in t_params:\n",
    "                    for P in P_params:\n",
    "                            for D in D_params:\n",
    "                                for Q in Q_params:\n",
    "                                    for m in m_params:\n",
    "                                        cfg = [(p,d,q), (P,D,Q,m), t]\n",
    "                                        models.append(cfg)\n",
    "    return models"
   ]
  },
  {
   "cell_type": "code",
   "execution_count": 92,
   "metadata": {},
   "outputs": [
    {
     "data": {
      "text/html": [
       "<div>\n",
       "<style scoped>\n",
       "    .dataframe tbody tr th:only-of-type {\n",
       "        vertical-align: middle;\n",
       "    }\n",
       "\n",
       "    .dataframe tbody tr th {\n",
       "        vertical-align: top;\n",
       "    }\n",
       "\n",
       "    .dataframe thead th {\n",
       "        text-align: right;\n",
       "    }\n",
       "</style>\n",
       "<table border=\"1\" class=\"dataframe\">\n",
       "  <thead>\n",
       "    <tr style=\"text-align: right;\">\n",
       "      <th></th>\n",
       "      <th>Count</th>\n",
       "    </tr>\n",
       "    <tr>\n",
       "      <th>Date</th>\n",
       "      <th></th>\n",
       "    </tr>\n",
       "  </thead>\n",
       "  <tbody>\n",
       "    <tr>\n",
       "      <th>2012-08-25 00:00:00</th>\n",
       "      <td>8.0</td>\n",
       "    </tr>\n",
       "    <tr>\n",
       "      <th>2012-08-25 01:00:00</th>\n",
       "      <td>2.0</td>\n",
       "    </tr>\n",
       "    <tr>\n",
       "      <th>2012-08-25 02:00:00</th>\n",
       "      <td>6.0</td>\n",
       "    </tr>\n",
       "    <tr>\n",
       "      <th>2012-08-25 03:00:00</th>\n",
       "      <td>2.0</td>\n",
       "    </tr>\n",
       "    <tr>\n",
       "      <th>2012-08-25 04:00:00</th>\n",
       "      <td>2.0</td>\n",
       "    </tr>\n",
       "  </tbody>\n",
       "</table>\n",
       "</div>"
      ],
      "text/plain": [
       "                     Count\n",
       "Date                      \n",
       "2012-08-25 00:00:00    8.0\n",
       "2012-08-25 01:00:00    2.0\n",
       "2012-08-25 02:00:00    6.0\n",
       "2012-08-25 03:00:00    2.0\n",
       "2012-08-25 04:00:00    2.0"
      ]
     },
     "execution_count": 92,
     "metadata": {},
     "output_type": "execute_result"
    }
   ],
   "source": [
    "data.head()"
   ]
  },
  {
   "cell_type": "code",
   "execution_count": 93,
   "metadata": {},
   "outputs": [
    {
     "name": "stdout",
     "output_type": "stream",
     "text": [
      "<Hour>\n",
      "H\n"
     ]
    }
   ],
   "source": [
    "print(train.index.freq)\n",
    "print(train.index.inferred_freq)"
   ]
  },
  {
   "cell_type": "code",
   "execution_count": 94,
   "metadata": {},
   "outputs": [],
   "source": [
    "count = 0"
   ]
  },
  {
   "cell_type": "code",
   "execution_count": null,
   "metadata": {},
   "outputs": [
    {
     "name": "stdout",
     "output_type": "stream",
     "text": [
      "> Model[[(0, 1, 0), (1, 0, 2, 0), 't']] 11.774"
     ]
    }
   ],
   "source": [
    "if __name__ == '__main__':\n",
    "    # define dataset\n",
    "    # data split\n",
    "    n_test = 20\n",
    "    # model configs\n",
    "    cfg_list = sarima_configs()\n",
    "    # grid search\n",
    "    scores = grid_search(data[:2000], cfg_list, n_test)\n",
    "    # list top 3 configs\n",
    "    print(\"\\n The top 3 scoring models :\")\n",
    "    for cfg, error in scores[:3]:\n",
    "        print(cfg, error)"
   ]
  },
  {
   "cell_type": "code",
   "execution_count": null,
   "metadata": {},
   "outputs": [],
   "source": []
  },
  {
   "cell_type": "code",
   "execution_count": null,
   "metadata": {},
   "outputs": [],
   "source": []
  },
  {
   "cell_type": "code",
   "execution_count": null,
   "metadata": {},
   "outputs": [],
   "source": []
  },
  {
   "cell_type": "code",
   "execution_count": null,
   "metadata": {},
   "outputs": [],
   "source": []
  },
  {
   "cell_type": "code",
   "execution_count": 31,
   "metadata": {},
   "outputs": [
    {
     "ename": "ValueError",
     "evalue": "Non-stationary starting autoregressive parameters found with `enforce_stationarity` set to True.",
     "output_type": "error",
     "traceback": [
      "\u001b[0;31m---------------------------------------------------------------------------\u001b[0m",
      "\u001b[0;31mValueError\u001b[0m                                Traceback (most recent call last)",
      "\u001b[0;32m<ipython-input-31-e7bc3aced578>\u001b[0m in \u001b[0;36m<module>\u001b[0;34m\u001b[0m\n\u001b[1;32m      1\u001b[0m \u001b[0my_hat_avg\u001b[0m \u001b[0;34m=\u001b[0m \u001b[0mtest\u001b[0m\u001b[0;34m.\u001b[0m\u001b[0mcopy\u001b[0m\u001b[0;34m(\u001b[0m\u001b[0;34m)\u001b[0m\u001b[0;34m\u001b[0m\u001b[0;34m\u001b[0m\u001b[0m\n\u001b[0;32m----> 2\u001b[0;31m \u001b[0mfit1\u001b[0m \u001b[0;34m=\u001b[0m \u001b[0msm\u001b[0m\u001b[0;34m.\u001b[0m\u001b[0mtsa\u001b[0m\u001b[0;34m.\u001b[0m\u001b[0mstatespace\u001b[0m\u001b[0;34m.\u001b[0m\u001b[0mSARIMAX\u001b[0m\u001b[0;34m(\u001b[0m\u001b[0mtrain\u001b[0m\u001b[0;34m.\u001b[0m\u001b[0mCount\u001b[0m\u001b[0;34m,\u001b[0m \u001b[0morder\u001b[0m\u001b[0;34m=\u001b[0m\u001b[0;34m(\u001b[0m\u001b[0;36m9\u001b[0m\u001b[0;34m,\u001b[0m \u001b[0;36m1\u001b[0m\u001b[0;34m,\u001b[0m \u001b[0;36m4\u001b[0m\u001b[0;34m)\u001b[0m\u001b[0;34m,\u001b[0m\u001b[0mseasonal_order\u001b[0m\u001b[0;34m=\u001b[0m\u001b[0;34m(\u001b[0m\u001b[0;36m1\u001b[0m\u001b[0;34m,\u001b[0m\u001b[0;36m1\u001b[0m\u001b[0;34m,\u001b[0m\u001b[0;36m1\u001b[0m\u001b[0;34m,\u001b[0m\u001b[0;36m12\u001b[0m\u001b[0;34m)\u001b[0m\u001b[0;34m)\u001b[0m\u001b[0;34m.\u001b[0m\u001b[0mfit\u001b[0m\u001b[0;34m(\u001b[0m\u001b[0mcov_type\u001b[0m\u001b[0;34m=\u001b[0m\u001b[0;34m'robust'\u001b[0m\u001b[0;34m,\u001b[0m \u001b[0mmethod\u001b[0m\u001b[0;34m=\u001b[0m\u001b[0;34m'cg'\u001b[0m\u001b[0;34m,\u001b[0m \u001b[0mtrend\u001b[0m\u001b[0;34m=\u001b[0m\u001b[0;34m'ct'\u001b[0m\u001b[0;34m)\u001b[0m\u001b[0;34m\u001b[0m\u001b[0;34m\u001b[0m\u001b[0m\n\u001b[0m",
      "\u001b[0;32m/opt/anaconda3/lib/python3.7/site-packages/statsmodels/tsa/statespace/mlemodel.py\u001b[0m in \u001b[0;36mfit\u001b[0;34m(self, start_params, transformed, cov_type, cov_kwds, method, maxiter, full_output, disp, callback, return_params, optim_score, optim_complex_step, optim_hessian, flags, **kwargs)\u001b[0m\n\u001b[1;32m    430\u001b[0m         \"\"\"\n\u001b[1;32m    431\u001b[0m         \u001b[0;32mif\u001b[0m \u001b[0mstart_params\u001b[0m \u001b[0;32mis\u001b[0m \u001b[0;32mNone\u001b[0m\u001b[0;34m:\u001b[0m\u001b[0;34m\u001b[0m\u001b[0;34m\u001b[0m\u001b[0m\n\u001b[0;32m--> 432\u001b[0;31m             \u001b[0mstart_params\u001b[0m \u001b[0;34m=\u001b[0m \u001b[0mself\u001b[0m\u001b[0;34m.\u001b[0m\u001b[0mstart_params\u001b[0m\u001b[0;34m\u001b[0m\u001b[0;34m\u001b[0m\u001b[0m\n\u001b[0m\u001b[1;32m    433\u001b[0m             \u001b[0mtransformed\u001b[0m \u001b[0;34m=\u001b[0m \u001b[0;32mTrue\u001b[0m\u001b[0;34m\u001b[0m\u001b[0;34m\u001b[0m\u001b[0m\n\u001b[1;32m    434\u001b[0m \u001b[0;34m\u001b[0m\u001b[0m\n",
      "\u001b[0;32m/opt/anaconda3/lib/python3.7/site-packages/statsmodels/tsa/statespace/sarimax.py\u001b[0m in \u001b[0;36mstart_params\u001b[0;34m(self)\u001b[0m\n\u001b[1;32m    997\u001b[0m         )\n\u001b[1;32m    998\u001b[0m         \u001b[0;32mif\u001b[0m \u001b[0minvalid_ar\u001b[0m\u001b[0;34m:\u001b[0m\u001b[0;34m\u001b[0m\u001b[0;34m\u001b[0m\u001b[0m\n\u001b[0;32m--> 999\u001b[0;31m             raise ValueError('Non-stationary starting autoregressive'\n\u001b[0m\u001b[1;32m   1000\u001b[0m                              \u001b[0;34m' parameters found with `enforce_stationarity`'\u001b[0m\u001b[0;34m\u001b[0m\u001b[0;34m\u001b[0m\u001b[0m\n\u001b[1;32m   1001\u001b[0m                              ' set to True.')\n",
      "\u001b[0;31mValueError\u001b[0m: Non-stationary starting autoregressive parameters found with `enforce_stationarity` set to True."
     ]
    }
   ],
   "source": [
    "y_hat_avg = test.copy()\n",
    "fit1 = sm.tsa.statespace.SARIMAX(train.Count, order=(9, 1, 4),seasonal_order=(1,1,1,12)).fit(cov_type='robust', method='cg', trend='ct')"
   ]
  },
  {
   "cell_type": "code",
   "execution_count": 29,
   "metadata": {},
   "outputs": [
    {
     "name": "stdout",
     "output_type": "stream",
     "text": [
      "                                 Statespace Model Results                                 \n",
      "==========================================================================================\n",
      "Dep. Variable:                              Count   No. Observations:                 7315\n",
      "Model:             SARIMAX(2, 1, 4)x(1, 1, 1, 12)   Log Likelihood              -33908.234\n",
      "Date:                            Mon, 07 Jan 2019   AIC                          67834.469\n",
      "Time:                                    18:44:10   BIC                          67896.532\n",
      "Sample:                                08-25-2012   HQIC                         67855.809\n",
      "                                     - 06-25-2013                                         \n",
      "Covariance Type:                           robust                                         \n",
      "==============================================================================\n",
      "                 coef    std err          z      P>|z|      [0.025      0.975]\n",
      "------------------------------------------------------------------------------\n",
      "ar.L1          0.3941      0.369      1.069      0.285      -0.329       1.117\n",
      "ar.L2         -0.0293      0.360     -0.082      0.935      -0.734       0.676\n",
      "ma.L1          0.2159      0.333      0.647      0.517      -0.438       0.869\n",
      "ma.L2          0.1300      0.428      0.304      0.761      -0.709       0.969\n",
      "ma.L3         -0.0381      0.244     -0.156      0.876      -0.517       0.441\n",
      "ma.L4          0.1176      0.109      1.077      0.282      -0.096       0.332\n",
      "ar.S.L12       0.1500      0.038      3.904      0.000       0.075       0.225\n",
      "ma.S.L12      -0.7449      0.036    -20.852      0.000      -0.815      -0.675\n",
      "sigma2       616.5274     46.121     13.368      0.000     526.131     706.923\n",
      "===================================================================================\n",
      "Ljung-Box (Q):                     3524.90   Jarque-Bera (JB):            414456.77\n",
      "Prob(Q):                              0.00   Prob(JB):                         0.00\n",
      "Heteroskedasticity (H):              12.87   Skew:                            -0.12\n",
      "Prob(H) (two-sided):                  0.00   Kurtosis:                        39.91\n",
      "===================================================================================\n",
      "\n",
      "Warnings:\n",
      "[1] Quasi-maximum likelihood covariance matrix used for robustness to some misspecifications; calculated using the observed information matrix (complex-step) described in Harvey (1989).\n"
     ]
    }
   ],
   "source": [
    "print(fit1.summary())"
   ]
  },
  {
   "cell_type": "code",
   "execution_count": 26,
   "metadata": {},
   "outputs": [],
   "source": [
    "y_hat_avg['SARIMA'] = fit1.predict(start=prediction_start_date, end=prediction_end_date, dynamic=True)"
   ]
  },
  {
   "cell_type": "code",
   "execution_count": 27,
   "metadata": {},
   "outputs": [
    {
     "data": {
      "text/plain": [
       "[<matplotlib.lines.Line2D at 0x7f0ac429a470>]"
      ]
     },
     "execution_count": 27,
     "metadata": {},
     "output_type": "execute_result"
    },
    {
     "data": {
      "image/png": "[encoded data removed]",
      "text/plain": [
       "<Figure size 432x288 with 1 Axes>"
      ]
     },
     "metadata": {
      "needs_background": "light"
     },
     "output_type": "display_data"
    }
   ],
   "source": [
    "plt.plot(test.Count[:200])\n",
    "plt.plot(y_hat_avg['SARIMA'][:200])"
   ]
  },
  {
   "cell_type": "code",
   "execution_count": 28,
   "metadata": {},
   "outputs": [
    {
     "name": "stdout",
     "output_type": "stream",
     "text": [
      "95.96402767791886\n"
     ]
    }
   ],
   "source": [
    "rms_arima = sqrt(mean_squared_error(test.Count[:20], y_hat_avg['SARIMA'][:20]))\n",
    "print(rms_arima)"
   ]
  },
  {
   "cell_type": "code",
   "execution_count": null,
   "metadata": {},
   "outputs": [],
   "source": []
  }
 ],
 "metadata": {
  "kernelspec": {
   "display_name": "Python 3",
   "language": "python",
   "name": "python3"
  },
  "language_info": {
   "codemirror_mode": {
    "name": "ipython",
    "version": 3
   },
   "file_extension": ".py",
   "mimetype": "text/x-python",
   "name": "python",
   "nbconvert_exporter": "python",
   "pygments_lexer": "ipython3",
   "version": "3.7.1"
  }
 },
 "nbformat": 4,
 "nbformat_minor": 2
}
